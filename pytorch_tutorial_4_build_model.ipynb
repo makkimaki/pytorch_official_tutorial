{
  "nbformat": 4,
  "nbformat_minor": 0,
  "metadata": {
    "colab": {
      "name": "pytorch_tutorial_4_build_model.ipynb",
      "provenance": [],
      "authorship_tag": "ABX9TyOI5mdfH2Xu+p0JR3LiTlHI",
      "include_colab_link": true
    },
    "kernelspec": {
      "name": "python3",
      "display_name": "Python 3"
    },
    "language_info": {
      "name": "python"
    }
  },
  "cells": [
    {
      "cell_type": "markdown",
      "metadata": {
        "id": "view-in-github",
        "colab_type": "text"
      },
      "source": [
        "<a href=\"https://colab.research.google.com/github/makkimaki/pytorch_official_tutorial/blob/main/pytorch_tutorial_4_build_model.ipynb\" target=\"_parent\"><img src=\"https://colab.research.google.com/assets/colab-badge.svg\" alt=\"Open In Colab\"/></a>"
      ]
    },
    {
      "cell_type": "markdown",
      "metadata": {
        "id": "cikE6P0TbfrF"
      },
      "source": [
        ""
      ]
    },
    {
      "cell_type": "code",
      "metadata": {
        "id": "urKHNvMbarM6"
      },
      "source": [
        "import os \n",
        "import torch \n",
        "from torch import nn \n",
        "from torch.utils.data import DataLoader \n",
        "from torchvision import datasets, transforms "
      ],
      "execution_count": 1,
      "outputs": []
    },
    {
      "cell_type": "markdown",
      "metadata": {
        "id": "rNLgHyaqbhf0"
      },
      "source": [
        "## Get device for training"
      ]
    },
    {
      "cell_type": "code",
      "metadata": {
        "colab": {
          "base_uri": "https://localhost:8080/"
        },
        "id": "fqKw_485bYz4",
        "outputId": "a69aa987-abdb-4815-8d4a-a837a087fc2f"
      },
      "source": [
        "device = \"cuda\" if torch.cuda.is_available() else \"cpu\"\n",
        "print(f\"Using device: {device}\")"
      ],
      "execution_count": 3,
      "outputs": [
        {
          "output_type": "stream",
          "text": [
            "Using device: cpu\n"
          ],
          "name": "stdout"
        }
      ]
    },
    {
      "cell_type": "code",
      "metadata": {
        "id": "3D77z0XCbsY_"
      },
      "source": [
        ""
      ],
      "execution_count": null,
      "outputs": []
    },
    {
      "cell_type": "markdown",
      "metadata": {
        "id": "x4i824XVfA-9"
      },
      "source": [
        "# Define the Class"
      ]
    },
    {
      "cell_type": "code",
      "metadata": {
        "id": "cRZct8PKfETU"
      },
      "source": [
        "class NeuralNetwork(nn.Module):\n",
        "    def __init__(self):\n",
        "        super(NeuralNetwork, self).__init__()\n",
        "        self.flatten = nn.Flatten()\n",
        "        self.linear_relu_stack = nn.Sequential(\n",
        "            nn.Linear(28*28, 512),\n",
        "            nn.ReLU(),\n",
        "            nn.Linear(512, 512),\n",
        "            nn.ReLU(),\n",
        "            nn.Linear(512, 10),\n",
        "            nn.ReLU()\n",
        "        )\n",
        "\n",
        "    def forward(self, x):\n",
        "        x = self.flatten(x)\n",
        "        x = self.linear_relu_stack(x)\n",
        "        return x \n"
      ],
      "execution_count": 5,
      "outputs": []
    },
    {
      "cell_type": "code",
      "metadata": {
        "colab": {
          "base_uri": "https://localhost:8080/"
        },
        "id": "iipmB42sfnTT",
        "outputId": "70d1535e-5268-45ed-cdc6-30d87bc3e571"
      },
      "source": [
        "model = NeuralNetwork().to(device)\n",
        "print(model)"
      ],
      "execution_count": 6,
      "outputs": [
        {
          "output_type": "stream",
          "text": [
            "NeuralNetwork(\n",
            "  (flatten): Flatten(start_dim=1, end_dim=-1)\n",
            "  (linear_relu_stack): Sequential(\n",
            "    (0): Linear(in_features=784, out_features=512, bias=True)\n",
            "    (1): ReLU()\n",
            "    (2): Linear(in_features=512, out_features=512, bias=True)\n",
            "    (3): ReLU()\n",
            "    (4): Linear(in_features=512, out_features=10, bias=True)\n",
            "    (5): ReLU()\n",
            "  )\n",
            ")\n"
          ],
          "name": "stdout"
        }
      ]
    },
    {
      "cell_type": "markdown",
      "metadata": {
        "id": "x0G_wJfXgMld"
      },
      "source": [
        "ここでインスタンス化した`model`にデータを渡せば勝手に`forward`メソッドまでが実行される．`model.forward()`とはしないように！"
      ]
    },
    {
      "cell_type": "code",
      "metadata": {
        "colab": {
          "base_uri": "https://localhost:8080/"
        },
        "id": "TxG-TrnjftGo",
        "outputId": "dbd0e676-e10a-4637-dd47-a073f77b2438"
      },
      "source": [
        "X = torch.rand(1, 28, 28, device=device)\n",
        "logits = model(X)\n",
        "pred_prob = nn.Softmax(dim=1)(logits)\n",
        "y_pred = pred_prob.argmax(1)\n",
        "\n",
        "print(f\"Predicted class: {y_pred}\")"
      ],
      "execution_count": 7,
      "outputs": [
        {
          "output_type": "stream",
          "text": [
            "Predicted class: tensor([0])\n"
          ],
          "name": "stdout"
        }
      ]
    },
    {
      "cell_type": "code",
      "metadata": {
        "id": "nEXMwTOvgpGN"
      },
      "source": [
        ""
      ],
      "execution_count": null,
      "outputs": []
    },
    {
      "cell_type": "markdown",
      "metadata": {
        "id": "yAcrkNg6gwwW"
      },
      "source": [
        "各層で何が起きているかを見ていこう"
      ]
    },
    {
      "cell_type": "code",
      "metadata": {
        "colab": {
          "base_uri": "https://localhost:8080/"
        },
        "id": "ByW_p-wdgzyh",
        "outputId": "9bdfded9-ebfc-423b-e8d3-8c85e2f39095"
      },
      "source": [
        "input_image = torch.rand(3,28,28)\n",
        "print(input_image.size())"
      ],
      "execution_count": 8,
      "outputs": [
        {
          "output_type": "stream",
          "text": [
            "torch.Size([3, 28, 28])\n"
          ],
          "name": "stdout"
        }
      ]
    },
    {
      "cell_type": "markdown",
      "metadata": {
        "id": "H9Y6FZIog5mv"
      },
      "source": [
        "## nn.Flatten\n",
        "2D 28*28の画像を隣接する784ピクセルの値に変換する．\n",
        "（この時，ミニバッチ次元(dim=0)は保存されたまま）"
      ]
    },
    {
      "cell_type": "code",
      "metadata": {
        "colab": {
          "base_uri": "https://localhost:8080/"
        },
        "id": "BuQSKWacg12o",
        "outputId": "74563c69-d00a-45eb-98e4-e5249214ff83"
      },
      "source": [
        "flatten = nn.Flatten()\n",
        "flat_image = flatten(input_image)\n",
        "\n",
        "print(flat_image.shape)\n",
        "\n",
        "print(flat_image.size)\n",
        "print(flat_image.size())"
      ],
      "execution_count": 12,
      "outputs": [
        {
          "output_type": "stream",
          "text": [
            "torch.Size([3, 784])\n",
            "<built-in method size of Tensor object at 0x7f7fc5d4a460>\n",
            "torch.Size([3, 784])\n"
          ],
          "name": "stdout"
        }
      ]
    },
    {
      "cell_type": "code",
      "metadata": {
        "id": "m_zwiyzzhjdO"
      },
      "source": [
        ""
      ],
      "execution_count": null,
      "outputs": []
    },
    {
      "cell_type": "markdown",
      "metadata": {
        "id": "T3TN9fNUhse9"
      },
      "source": [
        "## nn.Linear\n"
      ]
    },
    {
      "cell_type": "code",
      "metadata": {
        "colab": {
          "base_uri": "https://localhost:8080/"
        },
        "id": "TtPFrGjPhvp9",
        "outputId": "386f2b8e-541a-48df-a3d9-c8f71c7a4172"
      },
      "source": [
        "layer1 = nn.Linear(in_features=28*28, out_features=20)\n",
        "hidden1 = layer1(flat_image)\n",
        "print(hidden1.size())"
      ],
      "execution_count": 13,
      "outputs": [
        {
          "output_type": "stream",
          "text": [
            "torch.Size([3, 20])\n"
          ],
          "name": "stdout"
        }
      ]
    },
    {
      "cell_type": "markdown",
      "metadata": {
        "id": "Ox_LZ6sshw_3"
      },
      "source": [
        "## nn.ReLU"
      ]
    },
    {
      "cell_type": "code",
      "metadata": {
        "colab": {
          "base_uri": "https://localhost:8080/"
        },
        "id": "Nz-Ka_0ZhwG_",
        "outputId": "c309da7b-b647-44e0-9ac3-6ae63e678811"
      },
      "source": [
        "print(f\"Before ReLU \\n: {hidden1}\\n\\n\")\n",
        "hidden1 = nn.ReLU()(hidden1)\n",
        "print(f\"After ReLU \\n: {hidden1}\")"
      ],
      "execution_count": 16,
      "outputs": [
        {
          "output_type": "stream",
          "text": [
            "Before ReLU \n",
            ": tensor([[0.0000, 0.3708, 0.3230, 0.2592, 0.2365, 0.0000, 0.0000, 0.0000, 0.0000,\n",
            "         0.0000, 0.2311, 0.1798, 0.4547, 0.0000, 0.4527, 0.0000, 0.0044, 0.3616,\n",
            "         0.0000, 0.0000],\n",
            "        [0.0000, 0.0000, 0.5207, 0.5377, 0.3597, 0.0265, 0.2986, 0.0038, 0.0000,\n",
            "         0.0000, 0.6516, 0.1145, 0.7049, 0.0000, 0.0892, 0.0000, 0.3658, 0.2842,\n",
            "         0.0000, 0.0000],\n",
            "        [0.0000, 0.0000, 0.1479, 0.2185, 0.0423, 0.0000, 0.1138, 0.0399, 0.0000,\n",
            "         0.0000, 0.1341, 0.1158, 0.4120, 0.0000, 0.3418, 0.1692, 0.0780, 0.3004,\n",
            "         0.0000, 0.0000]], grad_fn=<ReluBackward0>)\n",
            "\n",
            "\n",
            "After ReLU \n",
            ": tensor([[0.0000, 0.3708, 0.3230, 0.2592, 0.2365, 0.0000, 0.0000, 0.0000, 0.0000,\n",
            "         0.0000, 0.2311, 0.1798, 0.4547, 0.0000, 0.4527, 0.0000, 0.0044, 0.3616,\n",
            "         0.0000, 0.0000],\n",
            "        [0.0000, 0.0000, 0.5207, 0.5377, 0.3597, 0.0265, 0.2986, 0.0038, 0.0000,\n",
            "         0.0000, 0.6516, 0.1145, 0.7049, 0.0000, 0.0892, 0.0000, 0.3658, 0.2842,\n",
            "         0.0000, 0.0000],\n",
            "        [0.0000, 0.0000, 0.1479, 0.2185, 0.0423, 0.0000, 0.1138, 0.0399, 0.0000,\n",
            "         0.0000, 0.1341, 0.1158, 0.4120, 0.0000, 0.3418, 0.1692, 0.0780, 0.3004,\n",
            "         0.0000, 0.0000]], grad_fn=<ReluBackward0>)\n"
          ],
          "name": "stdout"
        }
      ]
    },
    {
      "cell_type": "markdown",
      "metadata": {
        "id": "AROr69ruiG84"
      },
      "source": [
        "## nn.Sequential"
      ]
    },
    {
      "cell_type": "code",
      "metadata": {
        "id": "Y2d9BDUph4Bv"
      },
      "source": [
        "seq_modules = nn.Sequential(\n",
        "    flatten, \n",
        "    layer1,\n",
        "    nn.ReLU(),\n",
        "    nn.Linear(20, 10)\n",
        ")\n",
        "input_image = torch.rand(3, 28, 28)\n",
        "logits = seq_modules(input_image)"
      ],
      "execution_count": 18,
      "outputs": []
    },
    {
      "cell_type": "markdown",
      "metadata": {
        "id": "EgZaRAfoiZJ4"
      },
      "source": [
        "## nn.Softmax\n",
        "`dim`パラメータは，確率の和が１になるように沿う次元の総数を表す．"
      ]
    },
    {
      "cell_type": "code",
      "metadata": {
        "id": "Wxn72wyTiVDP"
      },
      "source": [
        "softmax = nn.Softmax(dim=1)\n",
        "pred_prob = softmax(logits)"
      ],
      "execution_count": 19,
      "outputs": []
    },
    {
      "cell_type": "code",
      "metadata": {
        "id": "FcnbQL60ixD_"
      },
      "source": [
        ""
      ],
      "execution_count": null,
      "outputs": []
    }
  ]
}